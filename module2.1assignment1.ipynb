{
 "cells": [
  {
   "cell_type": "markdown",
   "id": "64694952",
   "metadata": {},
   "source": [
    "Use else block to display a message “Done” after successful execution of for loop."
   ]
  },
  {
   "cell_type": "code",
   "execution_count": 2,
   "id": "7b15d077",
   "metadata": {},
   "outputs": [
    {
     "name": "stdout",
     "output_type": "stream",
     "text": [
      "1\n",
      "2\n",
      "3\n",
      "4\n",
      "5\n",
      "6\n",
      "7\n",
      "8\n",
      "9\n",
      "10\n",
      "Done\n"
     ]
    }
   ],
   "source": [
    "for i in range(1, 11):\n",
    "    print(i)\n",
    "else:\n",
    "    print('Done')"
   ]
  },
  {
   "cell_type": "markdown",
   "id": "12b10a10",
   "metadata": {},
   "source": [
    "Write a program to display all prime numbers within a range."
   ]
  },
  {
   "cell_type": "code",
   "execution_count": 3,
   "id": "b11bc23f",
   "metadata": {},
   "outputs": [
    {
     "name": "stdout",
     "output_type": "stream",
     "text": [
      "53\n",
      "59\n",
      "61\n",
      "67\n",
      "71\n",
      "73\n",
      "79\n",
      "83\n",
      "89\n",
      "97\n"
     ]
    }
   ],
   "source": [
    "# prime number between 50 and 100\n",
    "lower_value = 50\n",
    "upper_value = 100\n",
    "\n",
    "for num in range(lower_value, upper_value + 1):\n",
    "    if num > 1:\n",
    "        for i in range(2,num):\n",
    "            if num % i == 0:\n",
    "                break\n",
    "        else:\n",
    "            print(num)"
   ]
  },
  {
   "cell_type": "markdown",
   "id": "25709bca",
   "metadata": {},
   "source": [
    "Use a loop to display elements from a given list present at odd index positions."
   ]
  },
  {
   "cell_type": "code",
   "execution_count": 4,
   "id": "6c0be7f3",
   "metadata": {},
   "outputs": [
    {
     "name": "stdout",
     "output_type": "stream",
     "text": [
      "2 4 6 8 "
     ]
    }
   ],
   "source": [
    "num_list = [1,2,3,4,5,6,7,8,9]\n",
    "for i in num_list[1::2]:\n",
    "    print(i , end=\" \")"
   ]
  },
  {
   "cell_type": "markdown",
   "id": "1dca5761",
   "metadata": {},
   "source": [
    "Calculate the cube of all numbers from 1 to a given number"
   ]
  },
  {
   "cell_type": "code",
   "execution_count": 5,
   "id": "f0c85c7e",
   "metadata": {},
   "outputs": [
    {
     "name": "stdout",
     "output_type": "stream",
     "text": [
      "Enter a number greater than 1: 10\n",
      "number is: 1,\t cube of number is: 1\n",
      "number is: 2,\t cube of number is: 8\n",
      "number is: 3,\t cube of number is: 27\n",
      "number is: 4,\t cube of number is: 64\n",
      "number is: 5,\t cube of number is: 125\n",
      "number is: 6,\t cube of number is: 216\n",
      "number is: 7,\t cube of number is: 343\n",
      "number is: 8,\t cube of number is: 512\n",
      "number is: 9,\t cube of number is: 729\n",
      "number is: 10,\t cube of number is: 1000\n"
     ]
    }
   ],
   "source": [
    "given_number = int(input(\"Enter a number greater than 1: \"))\n",
    "for i in range(1, given_number + 1):\n",
    "    cube_of_num = i**3\n",
    "    print(f\"number is: {i},\\t cube of number is: {cube_of_num}\")"
   ]
  },
  {
   "cell_type": "code",
   "execution_count": null,
   "id": "24b79861",
   "metadata": {},
   "outputs": [],
   "source": []
  }
 ],
 "metadata": {
  "kernelspec": {
   "display_name": "Python 3 (ipykernel)",
   "language": "python",
   "name": "python3"
  },
  "language_info": {
   "codemirror_mode": {
    "name": "ipython",
    "version": 3
   },
   "file_extension": ".py",
   "mimetype": "text/x-python",
   "name": "python",
   "nbconvert_exporter": "python",
   "pygments_lexer": "ipython3",
   "version": "3.9.12"
  }
 },
 "nbformat": 4,
 "nbformat_minor": 5
}

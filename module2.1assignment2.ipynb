{
 "cells": [
  {
   "cell_type": "markdown",
   "id": "f1bfbe70",
   "metadata": {},
   "source": [
    "Create a function, that repeats the first 2 letters of a word which will be followed by 3 dots and a space after. The string should be ended with a question mark. Look below for examples\n",
    "\n",
    "Examples\n",
    "stutter(\"victor\") ➞ vi... vi... victor?\"\n",
    "\n",
    "stutter(\"amazing\") ➞ \"am... am... amazing?\"\n"
   ]
  },
  {
   "cell_type": "code",
   "execution_count": 4,
   "id": "095b16d0",
   "metadata": {},
   "outputs": [
    {
     "name": "stdout",
     "output_type": "stream",
     "text": [
      "vi... vi... victor?\n",
      "am... am... amazing?\n",
      "go... go... good?\n"
     ]
    }
   ],
   "source": [
    "def stutter(word_input):\n",
    "    print(f\"{word_input[0:2]}... {word_input[0:2]}... {word_input}?\")\n",
    "    \n",
    "stutter(\"victor\")\n",
    "stutter(\"amazing\")\n",
    "stutter(\"good\")"
   ]
  },
  {
   "cell_type": "markdown",
   "id": "c3ca1b6f",
   "metadata": {},
   "source": [
    "Perform a for loop that searches through a string and prints only distinct vowel letters.\n",
    "\n",
    "Examples\n",
    "\"victor\" ➞ “io”\n",
    "\n",
    "“amazing” ➞ \"ai\"\n",
    "\n",
    "\"good\" ➞ \"o\"\n"
   ]
  },
  {
   "cell_type": "code",
   "execution_count": 3,
   "id": "39ba28ce",
   "metadata": {},
   "outputs": [
    {
     "name": "stdout",
     "output_type": "stream",
     "text": [
      "Enter string to search: good\n",
      "o\n"
     ]
    }
   ],
   "source": [
    "all_vowels = 'aeiou'\n",
    "word_input = input(\"Enter string to search: \")\n",
    "vowel_letters = \"\"\n",
    "for letter in word_input:\n",
    "    if letter in all_vowels and letter not in vowel_letters:\n",
    "        all_vowels += letter\n",
    "print(all_vowels)"
   ]
  },
  {
   "cell_type": "markdown",
   "id": "5082b895",
   "metadata": {},
   "source": [
    "Perform a while loop that requests for a name, if that name is entered, it will be printed else, if user types “end” (this command should be case insensitive), the while loop is terminated\n",
    "\n",
    "Examples\n",
    "\"victor\" ➞  print(“victor”)\n",
    "\n",
    "“amazing” ➞  print(“amazing”)\n",
    "\n",
    "\"eNd\" ➞ terminate while loop\n",
    "\n",
    "\"ENd\" ➞ terminate while loop\n"
   ]
  },
  {
   "cell_type": "code",
   "execution_count": 5,
   "id": "95f5be0d",
   "metadata": {},
   "outputs": [
    {
     "name": "stdout",
     "output_type": "stream",
     "text": [
      "Enter a name: binta\n",
      "binta\n",
      "Enter a name: End\n"
     ]
    }
   ],
   "source": [
    "while True:\n",
    "    name = input(\"Enter a name: \")\n",
    "    if name.lower() == 'end':\n",
    "        break\n",
    "    print(name)"
   ]
  },
  {
   "cell_type": "code",
   "execution_count": null,
   "id": "3400e905",
   "metadata": {},
   "outputs": [],
   "source": []
  }
 ],
 "metadata": {
  "kernelspec": {
   "display_name": "Python 3 (ipykernel)",
   "language": "python",
   "name": "python3"
  },
  "language_info": {
   "codemirror_mode": {
    "name": "ipython",
    "version": 3
   },
   "file_extension": ".py",
   "mimetype": "text/x-python",
   "name": "python",
   "nbconvert_exporter": "python",
   "pygments_lexer": "ipython3",
   "version": "3.9.12"
  }
 },
 "nbformat": 4,
 "nbformat_minor": 5
}
